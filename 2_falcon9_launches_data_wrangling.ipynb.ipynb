{
 "cells": [
  {
   "cell_type": "markdown",
   "metadata": {},
   "source": [
    "<center>\n",
    "    <img src=\"https://gitlab.com/ibm/skills-network/courses/placeholder101/-/raw/master/labs/module%201/images/IDSNlogo.png\" width=\"300\" alt=\"cognitiveclass.ai logo\"  />\n",
    "</center>\n"
   ]
  },
  {
   "cell_type": "markdown",
   "metadata": {},
   "source": [
    "# **Space X  Falcon 9 First Stage Landing Prediction**\n"
   ]
  },
  {
   "cell_type": "markdown",
   "metadata": {},
   "source": [
    "## Web scraping Falcon 9 and Falcon Heavy Launches Records from Wikipedia\n"
   ]
  },
  {
   "cell_type": "markdown",
   "metadata": {},
   "source": [
    "Estimated time needed: **40** minutes\n"
   ]
  },
  {
   "cell_type": "markdown",
   "metadata": {},
   "source": [
    "In this lab, you will be performing web scraping to collect Falcon 9 historical launch records from a Wikipedia page titled `List of Falcon 9 and Falcon Heavy launches`\n",
    "\n",
    "[https://en.wikipedia.org/wiki/List_of_Falcon\\_9\\_and_Falcon_Heavy_launches](https://en.wikipedia.org/wiki/List_of_Falcon\\_9\\_and_Falcon_Heavy_launches?utm_medium=Exinfluencer&utm_source=Exinfluencer&utm_content=000026UJ&utm_term=10006555&utm_id=NA-SkillsNetwork-Channel-SkillsNetworkCoursesIBMDS0321ENSkillsNetwork26802033-2021-01-01)\n"
   ]
  },
  {
   "cell_type": "markdown",
   "metadata": {},
   "source": [
    "![](https://cf-courses-data.s3.us.cloud-object-storage.appdomain.cloud/IBM-DS0321EN-SkillsNetwork/labs/module\\_1\\_L2/images/Falcon9\\_rocket_family.svg)\n"
   ]
  },
  {
   "cell_type": "markdown",
   "metadata": {},
   "source": [
    "Falcon 9 first stage will land successfully\n"
   ]
  },
  {
   "cell_type": "markdown",
   "metadata": {},
   "source": [
    "![](https://cf-courses-data.s3.us.cloud-object-storage.appdomain.cloud/IBMDeveloperSkillsNetwork-DS0701EN-SkillsNetwork/api/Images/landing\\_1.gif)\n"
   ]
  },
  {
   "cell_type": "markdown",
   "metadata": {},
   "source": [
    "Several examples of an unsuccessful landing are shown here:\n"
   ]
  },
  {
   "cell_type": "markdown",
   "metadata": {},
   "source": [
    "![](https://cf-courses-data.s3.us.cloud-object-storage.appdomain.cloud/IBMDeveloperSkillsNetwork-DS0701EN-SkillsNetwork/api/Images/crash.gif)\n"
   ]
  },
  {
   "cell_type": "markdown",
   "metadata": {},
   "source": [
    "More specifically, the launch records are stored in a HTML table shown below:\n"
   ]
  },
  {
   "cell_type": "markdown",
   "metadata": {},
   "source": [
    "![](https://cf-courses-data.s3.us.cloud-object-storage.appdomain.cloud/IBM-DS0321EN-SkillsNetwork/labs/module\\_1\\_L2/images/falcon9-launches-wiki.png)\n"
   ]
  },
  {
   "cell_type": "markdown",
   "metadata": {},
   "source": [
    "## Objectives\n",
    "\n",
    "Web scrap Falcon 9 launch records with `BeautifulSoup`:\n",
    "\n",
    "*   Extract a Falcon 9 launch records HTML table from Wikipedia\n",
    "*   Parse the table and convert it into a Pandas data frame\n"
   ]
  },
  {
   "cell_type": "markdown",
   "metadata": {},
   "source": [
    "First let's import required packages for this lab\n"
   ]
  },
  {
   "cell_type": "code",
   "execution_count": 1,
   "metadata": {},
   "outputs": [
    {
     "name": "stdout",
     "output_type": "stream",
     "text": [
      "Collecting beautifulsoup4\n",
      "  Downloading beautifulsoup4-4.14.2-py3-none-any.whl.metadata (3.8 kB)\n",
      "Collecting soupsieve>1.2 (from beautifulsoup4)\n",
      "  Using cached soupsieve-2.8-py3-none-any.whl.metadata (4.6 kB)\n",
      "Collecting typing-extensions>=4.0.0 (from beautifulsoup4)\n",
      "  Using cached typing_extensions-4.15.0-py3-none-any.whl.metadata (3.3 kB)\n",
      "Downloading beautifulsoup4-4.14.2-py3-none-any.whl (106 kB)\n",
      "Using cached soupsieve-2.8-py3-none-any.whl (36 kB)\n",
      "Using cached typing_extensions-4.15.0-py3-none-any.whl (44 kB)\n",
      "Installing collected packages: typing-extensions, soupsieve, beautifulsoup4\n",
      "\u001b[2K   \u001b[90m━━━━━━━━━━━━━━━━━━━━━━━━━━━━━━━━━━━━━━━━\u001b[0m \u001b[32m3/3\u001b[0m [beautifulsoup4]\n",
      "\u001b[1A\u001b[2KSuccessfully installed beautifulsoup4-4.14.2 soupsieve-2.8 typing-extensions-4.15.0\n",
      "Requirement already satisfied: requests in ./.venv/lib/python3.12/site-packages (2.32.5)\n",
      "Requirement already satisfied: charset_normalizer<4,>=2 in ./.venv/lib/python3.12/site-packages (from requests) (3.4.3)\n",
      "Requirement already satisfied: idna<4,>=2.5 in ./.venv/lib/python3.12/site-packages (from requests) (3.10)\n",
      "Requirement already satisfied: urllib3<3,>=1.21.1 in ./.venv/lib/python3.12/site-packages (from requests) (2.5.0)\n",
      "Requirement already satisfied: certifi>=2017.4.17 in ./.venv/lib/python3.12/site-packages (from requests) (2025.8.3)\n"
     ]
    }
   ],
   "source": [
    "!pip3 install beautifulsoup4\n",
    "!pip3 install requests"
   ]
  },
  {
   "cell_type": "code",
   "execution_count": 2,
   "metadata": {},
   "outputs": [],
   "source": [
    "# ── Imports ──\n",
    "import sys\n",
    "import re\n",
    "import unicodedata\n",
    "\n",
    "import requests\n",
    "from bs4 import BeautifulSoup\n",
    "import pandas as pd"
   ]
  },
  {
   "cell_type": "markdown",
   "metadata": {},
   "source": [
    "and we will provide some helper functions for you to process web scraped HTML table\n"
   ]
  },
  {
   "cell_type": "code",
   "execution_count": 3,
   "metadata": {},
   "outputs": [],
   "source": [
    "# ── Extract date and time from table cell ──\n",
    "def date_time(table_cells):\n",
    "    \"\"\"\n",
    "    Returns the date and time from the HTML table cell.\n",
    "    Input: element of a table data cell.\n",
    "    \"\"\"\n",
    "    return [data_time.strip() for data_time in list(table_cells.strings)][0:2]\n",
    "\n",
    "\n",
    "# ── Extract booster version from table cell ──\n",
    "def booster_version(table_cells):\n",
    "    \"\"\"\n",
    "    Returns the booster version from the HTML table cell.\n",
    "    Input: element of a table data cell.\n",
    "    \"\"\"\n",
    "    out = ''.join([text for i, text in enumerate(table_cells.strings) if i % 2 == 0][0:-1])\n",
    "    return out\n",
    "\n",
    "\n",
    "# ── Extract landing status from table cell ──\n",
    "def landing_status(table_cells):\n",
    "    \"\"\"\n",
    "    Returns the landing status from the HTML table cell.\n",
    "    Input: element of a table data cell.\n",
    "    \"\"\"\n",
    "    out = [i for i in table_cells.strings][0]\n",
    "    return out\n",
    "\n",
    "\n",
    "# ── Extract payload mass from table cell ──\n",
    "def get_mass(table_cells):\n",
    "    \"\"\"\n",
    "    Returns the payload mass (kg) from the HTML table cell.\n",
    "    \"\"\"\n",
    "    mass = unicodedata.normalize(\"NFKD\", table_cells.text).strip()\n",
    "    if mass:\n",
    "        new_mass = mass[0:mass.find(\"kg\") + 2]\n",
    "    else:\n",
    "        new_mass = 0\n",
    "    return new_mass\n",
    "\n",
    "\n",
    "# ── Extract clean column name from header row ──\n",
    "def extract_column_from_header(row):\n",
    "    \"\"\"\n",
    "    Returns a cleaned column name from the header row element.\n",
    "    Removes <br>, <a>, and <sup> tags.\n",
    "    \"\"\"\n",
    "    if row.br:\n",
    "        row.br.extract()\n",
    "    if row.a:\n",
    "        row.a.extract()\n",
    "    if row.sup:\n",
    "        row.sup.extract()\n",
    "        \n",
    "    colunm_name = ' '.join(row.contents)\n",
    "\n",
    "    # Filter digits and empty names\n",
    "    if not colunm_name.strip().isdigit():\n",
    "        colunm_name = colunm_name.strip()\n",
    "        return colunm_name"
   ]
  },
  {
   "cell_type": "markdown",
   "metadata": {},
   "source": [
    "To keep the lab tasks consistent, you will be asked to scrape the data from a snapshot of the  `List of Falcon 9 and Falcon Heavy launches` Wikipage updated on\n",
    "`9th June 2021`\n"
   ]
  },
  {
   "cell_type": "code",
   "execution_count": 27,
   "metadata": {},
   "outputs": [],
   "source": [
    "# ── Static Wikipedia URL for Falcon 9 and Falcon Heavy launches ──\n",
    "static_url = \"https://en.wikipedia.org/w/index.php?title=List_of_Falcon_9_and_Falcon_Heavy_launches&oldid=1027686922\"\n",
    "\n",
    "headers = {\"User-Agent\": \"Mozilla/5.0\"}\n",
    "response = requests.get(static_url, headers=headers)"
   ]
  },
  {
   "cell_type": "markdown",
   "metadata": {},
   "source": [
    "Next, request the HTML page from the above URL and get a `response` object\n"
   ]
  },
  {
   "cell_type": "markdown",
   "metadata": {},
   "source": [
    "### TASK 1: Request the Falcon9 Launch Wiki page from its URL\n"
   ]
  },
  {
   "cell_type": "markdown",
   "metadata": {},
   "source": [
    "First, let's perform an HTTP GET method to request the Falcon9 Launch HTML page, as an HTTP response.\n"
   ]
  },
  {
   "cell_type": "code",
   "execution_count": 29,
   "metadata": {},
   "outputs": [],
   "source": [
    "# ── Create BeautifulSoup object ──\n",
    "soup = BeautifulSoup(response.text, \"html.parser\")"
   ]
  },
  {
   "cell_type": "markdown",
   "metadata": {},
   "source": [
    "Create a `BeautifulSoup` object from the HTML `response`\n"
   ]
  },
  {
   "cell_type": "code",
   "execution_count": 30,
   "metadata": {},
   "outputs": [],
   "source": [
    "# ── Create BeautifulSoup object from the response content ──\n",
    "soup = BeautifulSoup(response.text, \"html.parser\")"
   ]
  },
  {
   "cell_type": "markdown",
   "metadata": {},
   "source": [
    "Print the page title to verify if the `BeautifulSoup` object was created properly\n"
   ]
  },
  {
   "cell_type": "code",
   "execution_count": 31,
   "metadata": {},
   "outputs": [
    {
     "data": {
      "text/plain": [
       "<title>List of Falcon 9 and Falcon Heavy launches - Wikipedia</title>"
      ]
     },
     "execution_count": 31,
     "metadata": {},
     "output_type": "execute_result"
    }
   ],
   "source": [
    "# ── Use the title attribute of the BeautifulSoup object ──\n",
    "soup.title"
   ]
  },
  {
   "cell_type": "markdown",
   "metadata": {},
   "source": [
    "### TASK 2: Extract all column/variable names from the HTML table header\n"
   ]
  },
  {
   "cell_type": "markdown",
   "metadata": {},
   "source": [
    "Next, we want to collect all relevant column names from the HTML table header\n"
   ]
  },
  {
   "cell_type": "markdown",
   "metadata": {},
   "source": [
    "Let's try to find all tables on the wiki page first. If you need to refresh your memory about `BeautifulSoup`, please check the external reference link towards the end of this lab\n"
   ]
  },
  {
   "cell_type": "code",
   "execution_count": 32,
   "metadata": {},
   "outputs": [],
   "source": [
    "# ── Buscar todos los elementos <table> y asignarlos a una lista ──\n",
    "html_tables = soup.find_all('table')"
   ]
  },
  {
   "cell_type": "markdown",
   "metadata": {},
   "source": [
    "Starting from the third table is our target table contains the actual launch records.\n"
   ]
  },
  {
   "cell_type": "code",
   "execution_count": 38,
   "metadata": {},
   "outputs": [
    {
     "name": "stdout",
     "output_type": "stream",
     "text": [
      "Table 2 headers: ['Flight No.', 'Date andtime (UTC)', 'Version,Booster[b]', 'Launch site', 'Payload[c]', 'Payload mass', 'Orbit', 'Customer', 'Launchoutcome', 'Boosterlanding', '1', '2', '3', '4', '5', '6', '7']\n",
      "Table 3 headers: ['Flight No.', 'Date andtime (UTC)', 'Version,Booster[b]', 'Launch site', 'Payload[c]', 'Payload mass', 'Orbit', 'Customer', 'Launchoutcome', 'Boosterlanding', '8', '9', '10', '11', '12', '13']\n",
      "Table 4 headers: ['Flight No.', 'Date andtime (UTC)', 'Version,Booster[b]', 'Launch site', 'Payload[c]', 'Payload mass', 'Orbit', 'Customer', 'Launchoutcome', 'Boosterlanding', '14', '15', '16', '17', '18', '19', '20']\n",
      "Table 5 headers: ['Flight No.', 'Date andtime (UTC)', 'Version,Booster[b]', 'Launch site', 'Payload[c]', 'Payload mass', 'Orbit', 'Customer', 'Launchoutcome', 'Boosterlanding', '21', '22', '23', '24', '25', '26', '27', '28', 'N/A[e]']\n",
      "Table 6 headers: ['Flight No.', 'Date andtime (UTC)', 'Version,Booster[b]', 'Launch site', 'Payload[c]', 'Payload mass', 'Orbit', 'Customer', 'Launchoutcome', 'Boosterlanding', '29', '30', '31', '32', '33', '34', '35', '36', '37', '38', '39', '40', '41', '42', '43', '44', '45', '46']\n",
      "Table 7 headers: ['Flight No.', 'Date andtime (UTC)', 'Version,Booster[b]', 'Launch site', 'Payload[c]', 'Payload mass', 'Orbit', 'Customer', 'Launchoutcome', 'Boosterlanding', '47', '48', 'FH 1', '49', '50', '51', '52', '53', '54', '55', '56', '57', '58', '59', '60', '61', '62', '63', '64', '65', '66']\n",
      "Table 8 headers: ['Flight No.', 'Date andtime (UTC)', 'Version,Booster[b]', 'Launchsite', 'Payload[c]', 'Payload mass', 'Orbit', 'Customer', 'Launchoutcome', 'Boosterlanding', '67', '68', '69', 'FH 2', '70', '71', '72', 'FH 3', '73', '74', '75', '76', '77']\n",
      "Table 9 headers: ['Flight No.', 'Date andtime (UTC)', 'Version,Booster[b]', 'Launchsite', 'Payload[c]', 'Payload mass', 'Orbit', 'Customer', 'Launchoutcome', 'Boosterlanding', '78', '79', '80', '81', '82', '83', '84', '85', '86', '87', '88', '89', '90', '91', '92', '93', '94', '95', '96', '97', '98', '99', '100', '101', '102', '103']\n",
      "Table 10 headers: ['FlightNo.', 'Date andtime (UTC)', 'Version,Booster[b]', 'Launchsite', 'Payload[c]', 'Payload mass', 'Orbit', 'Customer', 'Launchoutcome', 'Boosterlanding', '104', '105', '106', '107', '108', '109', '110', '111', '112', '113', '114', '115', '116', '117', '118', '119', '120', '121']\n",
      "Table 11 headers: ['Date and time (UTC)', 'Version,Booster[b]', 'Launch site', 'Payload[c]', 'Orbit', 'Customer']\n",
      "Table 12 headers: ['Date and time (UTC)', 'Version,Booster[b]', 'Launch site', 'Payload[c]', 'Orbit', 'Customer']\n",
      "Table 13 headers: ['Date and time (UTC)', 'Version,Booster[b]', 'Launch site', 'Payload[c]', 'Orbit', 'Customer']\n",
      "Table 14 headers: ['Date and time (UTC)', 'Version,Booster[b]', 'Launch site', 'Payload[c]', 'Orbit', 'Customer']\n",
      "Table 15 headers: ['vteSpaceX missions and payloads', 'Launch vehicles', 'Falcon 1 missions', 'Falcon 9 missions', 'Demonstrations', 'ISSlogistics', 'Crewed', 'Commercialsatellites', 'Scientificsatellites', 'Militarysatellites', 'Starlink', 'Rideshares', 'Transporter', 'Bandwagon', 'Falcon Heavy missions', 'Starshipmissions', 'Flight tests', 'Crewed', 'Commercialsatellites']\n",
      "Table 16 headers: ['Demonstrations', 'ISSlogistics', 'Crewed', 'Commercialsatellites', 'Scientificsatellites', 'Militarysatellites', 'Starlink', 'Rideshares', 'Transporter', 'Bandwagon']\n",
      "Table 17 headers: ['Transporter', 'Bandwagon']\n",
      "Table 18 headers: ['Flight tests', 'Crewed', 'Commercialsatellites']\n",
      "Table 19 headers: ['vteSpaceX', 'Launch vehicles', 'Current', 'In development', 'Retired', 'Cancelled', 'Spacecraft', 'Cargo', 'Crewed', 'Test vehicles', 'Current', 'Retired', 'Rocket engines', 'Lists of missions', 'Launch facilities', 'Landing sites', 'Other facilities', 'Support', 'Contracts', 'R&D programs', 'Key people', 'Related']\n",
      "Table 20 headers: ['Current', 'In development', 'Retired', 'Cancelled']\n",
      "Table 21 headers: ['Cargo', 'Crewed']\n",
      "Table 22 headers: ['Current', 'Retired']\n",
      "Table 23 headers: ['vteSpaceflightlists and timelines', 'General', 'Human spaceflight', 'General', 'Salyut', 'Mir', 'ISS', 'Tiangong', 'Shuttle', 'People', 'EVA', 'Solar Systemexploration', 'Earth-orbitingsatellites', 'Vehicles', 'Launchesby rocket type', 'Launches by spaceport', 'Agencies, companiesand facilities', 'Other mission listsand timelines']\n",
      "Table 24 headers: ['General', 'Salyut', 'Mir', 'ISS', 'Tiangong', 'Shuttle', 'People', 'EVA']\n",
      "['Flight No.', 'Date andtime (UTC)', 'Version,Booster[b]', 'Launch site', 'Payload[c]', 'Payload mass', 'Orbit', 'Customer', 'Launchoutcome', 'Boosterlanding', '1', '2', '3', '4', '5', '6', '7']\n"
     ]
    }
   ],
   "source": [
    "# ── Find all tables with non-empty headers ──\n",
    "for i, table in enumerate(html_tables):\n",
    "    headers = [th.get_text(strip=True) for th in table.find_all(\"th\")]\n",
    "    if headers:\n",
    "        print(f\"Table {i} headers:\", headers)\n",
    "\n",
    "launch_table = html_tables[2]  # adjust index based on the output above\n",
    "column_names = [th.get_text(strip=True) for th in launch_table.find_all('th')]\n",
    "print(column_names)\n"
   ]
  },
  {
   "cell_type": "markdown",
   "metadata": {},
   "source": [
    "You should able to see the columns names embedded in the table header elements `<th>` as follows:\n"
   ]
  },
  {
   "cell_type": "markdown",
   "metadata": {},
   "source": [
    "```\n",
    "<tr>\n",
    "<th scope=\"col\">Flight No.\n",
    "</th>\n",
    "<th scope=\"col\">Date and<br/>time (<a href=\"/wiki/Coordinated_Universal_Time\" title=\"Coordinated Universal Time\">UTC</a>)\n",
    "</th>\n",
    "<th scope=\"col\"><a href=\"/wiki/List_of_Falcon_9_first-stage_boosters\" title=\"List of Falcon 9 first-stage boosters\">Version,<br/>Booster</a> <sup class=\"reference\" id=\"cite_ref-booster_11-0\"><a href=\"#cite_note-booster-11\">[b]</a></sup>\n",
    "</th>\n",
    "<th scope=\"col\">Launch site\n",
    "</th>\n",
    "<th scope=\"col\">Payload<sup class=\"reference\" id=\"cite_ref-Dragon_12-0\"><a href=\"#cite_note-Dragon-12\">[c]</a></sup>\n",
    "</th>\n",
    "<th scope=\"col\">Payload mass\n",
    "</th>\n",
    "<th scope=\"col\">Orbit\n",
    "</th>\n",
    "<th scope=\"col\">Customer\n",
    "</th>\n",
    "<th scope=\"col\">Launch<br/>outcome\n",
    "</th>\n",
    "<th scope=\"col\"><a href=\"/wiki/Falcon_9_first-stage_landing_tests\" title=\"Falcon 9 first-stage landing tests\">Booster<br/>landing</a>\n",
    "</th></tr>\n",
    "```\n"
   ]
  },
  {
   "cell_type": "markdown",
   "metadata": {},
   "source": [
    "Next, we just need to iterate through the `<th>` elements and apply the provided `extract_column_from_header()` to extract column name one by one\n"
   ]
  },
  {
   "cell_type": "code",
   "execution_count": 40,
   "metadata": {},
   "outputs": [],
   "source": [
    "launch_table = html_tables[2]  # use the real index from the loop above\n",
    "column_names = [th.get_text(strip=True) for th in launch_table.find_all(\"th\")]"
   ]
  },
  {
   "cell_type": "markdown",
   "metadata": {},
   "source": [
    "Check the extracted column names\n"
   ]
  },
  {
   "cell_type": "code",
   "execution_count": 42,
   "metadata": {},
   "outputs": [
    {
     "data": {
      "text/plain": [
       "['Flight No.',\n",
       " 'Date andtime (UTC)',\n",
       " 'Version,Booster[b]',\n",
       " 'Launch site',\n",
       " 'Payload[c]',\n",
       " 'Payload mass',\n",
       " 'Orbit',\n",
       " 'Customer',\n",
       " 'Launchoutcome',\n",
       " 'Boosterlanding',\n",
       " '1',\n",
       " '2',\n",
       " '3',\n",
       " '4',\n",
       " '5',\n",
       " '6',\n",
       " '7']"
      ]
     },
     "metadata": {},
     "output_type": "display_data"
    }
   ],
   "source": [
    "# ── Display column names in a clean format ──\n",
    "launch_table = html_tables[2]  # replace 2 with the correct index you found\n",
    "column_names = [th.get_text(strip=True) for th in launch_table.find_all(\"th\")]\n",
    "\n",
    "display(column_names)"
   ]
  },
  {
   "cell_type": "markdown",
   "metadata": {},
   "source": [
    "## TASK 3: Create a data frame by parsing the launch HTML tables\n"
   ]
  },
  {
   "cell_type": "markdown",
   "metadata": {},
   "source": [
    "We will create an empty dictionary with keys from the extracted column names in the previous task. Later, this dictionary will be converted into a Pandas dataframe\n"
   ]
  },
  {
   "cell_type": "code",
   "execution_count": 44,
   "metadata": {},
   "outputs": [],
   "source": [
    "# ── Initialize dictionary from column names ──\n",
    "launch_dict = dict.fromkeys(column_names)\n",
    "\n",
    "# ── Remove irrelevant column ──\n",
    "del launch_dict['Date andtime (UTC)']\n",
    "\n",
    "# ── Initialize keys with empty lists ──\n",
    "launch_dict['Flight No.'] = []\n",
    "launch_dict['Launch site'] = []\n",
    "launch_dict['Payload'] = []\n",
    "launch_dict['Payload mass'] = []\n",
    "launch_dict['Orbit'] = []\n",
    "launch_dict['Customer'] = []\n",
    "launch_dict['Launch outcome'] = []\n",
    "\n",
    "# ── Add new columns ──\n",
    "launch_dict['Version Booster'] = []\n",
    "launch_dict['Booster landing'] = []\n",
    "launch_dict['Date'] = []\n",
    "launch_dict['Time'] = []"
   ]
  },
  {
   "cell_type": "markdown",
   "metadata": {},
   "source": [
    "Next, we just need to fill up the `launch_dict` with launch records extracted from table rows.\n"
   ]
  },
  {
   "cell_type": "markdown",
   "metadata": {},
   "source": [
    "Usually, HTML tables in Wiki pages are likely to contain unexpected annotations and other types of noises, such as reference links `B0004.1[8]`, missing values `N/A [e]`, inconsistent formatting, etc.\n"
   ]
  },
  {
   "cell_type": "markdown",
   "metadata": {},
   "source": [
    "To simplify the parsing process, we have provided an incomplete code snippet below to help you to fill up the `launch_dict`. Please complete the following code snippet with TODOs or you can choose to write your own logic to parse all launch tables:\n"
   ]
  },
  {
   "cell_type": "code",
   "execution_count": 45,
   "metadata": {},
   "outputs": [
    {
     "data": {
      "text/html": [
       "<div>\n",
       "<style scoped>\n",
       "    .dataframe tbody tr th:only-of-type {\n",
       "        vertical-align: middle;\n",
       "    }\n",
       "\n",
       "    .dataframe tbody tr th {\n",
       "        vertical-align: top;\n",
       "    }\n",
       "\n",
       "    .dataframe thead th {\n",
       "        text-align: right;\n",
       "    }\n",
       "</style>\n",
       "<table border=\"1\" class=\"dataframe\">\n",
       "  <thead>\n",
       "    <tr style=\"text-align: right;\">\n",
       "      <th></th>\n",
       "      <th>Flight No.</th>\n",
       "      <th>Version,Booster[b]</th>\n",
       "      <th>Launch site</th>\n",
       "      <th>Payload[c]</th>\n",
       "      <th>Payload mass</th>\n",
       "      <th>Orbit</th>\n",
       "      <th>Customer</th>\n",
       "      <th>Launchoutcome</th>\n",
       "      <th>Boosterlanding</th>\n",
       "      <th>1</th>\n",
       "      <th>...</th>\n",
       "      <th>4</th>\n",
       "      <th>5</th>\n",
       "      <th>6</th>\n",
       "      <th>7</th>\n",
       "      <th>Payload</th>\n",
       "      <th>Launch outcome</th>\n",
       "      <th>Version Booster</th>\n",
       "      <th>Booster landing</th>\n",
       "      <th>Date</th>\n",
       "      <th>Time</th>\n",
       "    </tr>\n",
       "  </thead>\n",
       "  <tbody>\n",
       "    <tr>\n",
       "      <th>0</th>\n",
       "      <td>1</td>\n",
       "      <td>None</td>\n",
       "      <td>CCAFS</td>\n",
       "      <td>None</td>\n",
       "      <td>0</td>\n",
       "      <td>LEO</td>\n",
       "      <td>SpaceX</td>\n",
       "      <td>None</td>\n",
       "      <td>None</td>\n",
       "      <td>None</td>\n",
       "      <td>...</td>\n",
       "      <td>None</td>\n",
       "      <td>None</td>\n",
       "      <td>None</td>\n",
       "      <td>None</td>\n",
       "      <td>Dragon Spacecraft Qualification Unit</td>\n",
       "      <td>Success\\n</td>\n",
       "      <td>F9 v1.07B0003.18</td>\n",
       "      <td>Failure</td>\n",
       "      <td>4 June 2010</td>\n",
       "      <td>18:45</td>\n",
       "    </tr>\n",
       "    <tr>\n",
       "      <th>1</th>\n",
       "      <td>2</td>\n",
       "      <td>None</td>\n",
       "      <td>CCAFS</td>\n",
       "      <td>None</td>\n",
       "      <td>0</td>\n",
       "      <td>LEO</td>\n",
       "      <td>NASA</td>\n",
       "      <td>None</td>\n",
       "      <td>None</td>\n",
       "      <td>None</td>\n",
       "      <td>...</td>\n",
       "      <td>None</td>\n",
       "      <td>None</td>\n",
       "      <td>None</td>\n",
       "      <td>None</td>\n",
       "      <td>Dragon</td>\n",
       "      <td>Success</td>\n",
       "      <td>F9 v1.07B0004.18</td>\n",
       "      <td>Failure</td>\n",
       "      <td>8 December 2010</td>\n",
       "      <td>15:43</td>\n",
       "    </tr>\n",
       "    <tr>\n",
       "      <th>2</th>\n",
       "      <td>3</td>\n",
       "      <td>None</td>\n",
       "      <td>CCAFS</td>\n",
       "      <td>None</td>\n",
       "      <td>525 kg</td>\n",
       "      <td>LEO</td>\n",
       "      <td>NASA</td>\n",
       "      <td>None</td>\n",
       "      <td>None</td>\n",
       "      <td>None</td>\n",
       "      <td>...</td>\n",
       "      <td>None</td>\n",
       "      <td>None</td>\n",
       "      <td>None</td>\n",
       "      <td>None</td>\n",
       "      <td>Dragon</td>\n",
       "      <td>Success</td>\n",
       "      <td>F9 v1.07B0005.18</td>\n",
       "      <td>No attempt\\n</td>\n",
       "      <td>22 May 2012</td>\n",
       "      <td>07:44</td>\n",
       "    </tr>\n",
       "    <tr>\n",
       "      <th>3</th>\n",
       "      <td>4</td>\n",
       "      <td>None</td>\n",
       "      <td>CCAFS</td>\n",
       "      <td>None</td>\n",
       "      <td>4,700 kg</td>\n",
       "      <td>LEO</td>\n",
       "      <td>NASA</td>\n",
       "      <td>None</td>\n",
       "      <td>None</td>\n",
       "      <td>None</td>\n",
       "      <td>...</td>\n",
       "      <td>None</td>\n",
       "      <td>None</td>\n",
       "      <td>None</td>\n",
       "      <td>None</td>\n",
       "      <td>SpaceX CRS-1</td>\n",
       "      <td>Success\\n</td>\n",
       "      <td>F9 v1.07B0006.18</td>\n",
       "      <td>No attempt</td>\n",
       "      <td>8 October 2012</td>\n",
       "      <td>00:35</td>\n",
       "    </tr>\n",
       "    <tr>\n",
       "      <th>4</th>\n",
       "      <td>5</td>\n",
       "      <td>None</td>\n",
       "      <td>CCAFS</td>\n",
       "      <td>None</td>\n",
       "      <td>4,877 kg</td>\n",
       "      <td>LEO</td>\n",
       "      <td>NASA</td>\n",
       "      <td>None</td>\n",
       "      <td>None</td>\n",
       "      <td>None</td>\n",
       "      <td>...</td>\n",
       "      <td>None</td>\n",
       "      <td>None</td>\n",
       "      <td>None</td>\n",
       "      <td>None</td>\n",
       "      <td>SpaceX CRS-2</td>\n",
       "      <td>Success\\n</td>\n",
       "      <td>F9 v1.07B0007.18</td>\n",
       "      <td>No attempt\\n</td>\n",
       "      <td>1 March 2013</td>\n",
       "      <td>15:10</td>\n",
       "    </tr>\n",
       "    <tr>\n",
       "      <th>5</th>\n",
       "      <td>6</td>\n",
       "      <td>None</td>\n",
       "      <td>VAFB</td>\n",
       "      <td>None</td>\n",
       "      <td>500 kg</td>\n",
       "      <td>Polar orbit</td>\n",
       "      <td>MDA</td>\n",
       "      <td>None</td>\n",
       "      <td>None</td>\n",
       "      <td>None</td>\n",
       "      <td>...</td>\n",
       "      <td>None</td>\n",
       "      <td>None</td>\n",
       "      <td>None</td>\n",
       "      <td>None</td>\n",
       "      <td>CASSIOPE</td>\n",
       "      <td>Success</td>\n",
       "      <td>F9 v1.17B10038</td>\n",
       "      <td>Uncontrolled</td>\n",
       "      <td>29 September 2013</td>\n",
       "      <td>16:00</td>\n",
       "    </tr>\n",
       "    <tr>\n",
       "      <th>6</th>\n",
       "      <td>7</td>\n",
       "      <td>None</td>\n",
       "      <td>CCAFS</td>\n",
       "      <td>None</td>\n",
       "      <td>3,170 kg</td>\n",
       "      <td>GTO</td>\n",
       "      <td>SES</td>\n",
       "      <td>None</td>\n",
       "      <td>None</td>\n",
       "      <td>None</td>\n",
       "      <td>...</td>\n",
       "      <td>None</td>\n",
       "      <td>None</td>\n",
       "      <td>None</td>\n",
       "      <td>None</td>\n",
       "      <td>SES-8</td>\n",
       "      <td>Success</td>\n",
       "      <td>F9 v1.1</td>\n",
       "      <td>No attempt</td>\n",
       "      <td>3 December 2013</td>\n",
       "      <td>22:41</td>\n",
       "    </tr>\n",
       "    <tr>\n",
       "      <th>7</th>\n",
       "      <td>8</td>\n",
       "      <td>None</td>\n",
       "      <td>CCAFS</td>\n",
       "      <td>None</td>\n",
       "      <td>3,325 kg</td>\n",
       "      <td>GTO</td>\n",
       "      <td>Thaicom</td>\n",
       "      <td>None</td>\n",
       "      <td>None</td>\n",
       "      <td>None</td>\n",
       "      <td>...</td>\n",
       "      <td>None</td>\n",
       "      <td>None</td>\n",
       "      <td>None</td>\n",
       "      <td>None</td>\n",
       "      <td>Thaicom 6</td>\n",
       "      <td>Success</td>\n",
       "      <td>F9 v1.1</td>\n",
       "      <td>No attempt</td>\n",
       "      <td>6 January 2014</td>\n",
       "      <td>22:06</td>\n",
       "    </tr>\n",
       "    <tr>\n",
       "      <th>8</th>\n",
       "      <td>9</td>\n",
       "      <td>None</td>\n",
       "      <td>Cape Canaveral</td>\n",
       "      <td>None</td>\n",
       "      <td>2,296 kg</td>\n",
       "      <td>LEO</td>\n",
       "      <td>NASA</td>\n",
       "      <td>None</td>\n",
       "      <td>None</td>\n",
       "      <td>None</td>\n",
       "      <td>...</td>\n",
       "      <td>None</td>\n",
       "      <td>None</td>\n",
       "      <td>None</td>\n",
       "      <td>None</td>\n",
       "      <td>SpaceX CRS-3</td>\n",
       "      <td>Success\\n</td>\n",
       "      <td>F9 v1.1</td>\n",
       "      <td>Controlled</td>\n",
       "      <td>18 April 2014</td>\n",
       "      <td>19:25</td>\n",
       "    </tr>\n",
       "    <tr>\n",
       "      <th>9</th>\n",
       "      <td>10</td>\n",
       "      <td>None</td>\n",
       "      <td>Cape Canaveral</td>\n",
       "      <td>None</td>\n",
       "      <td>1,316 kg</td>\n",
       "      <td>LEO</td>\n",
       "      <td>Orbcomm</td>\n",
       "      <td>None</td>\n",
       "      <td>None</td>\n",
       "      <td>None</td>\n",
       "      <td>...</td>\n",
       "      <td>None</td>\n",
       "      <td>None</td>\n",
       "      <td>None</td>\n",
       "      <td>None</td>\n",
       "      <td>Orbcomm-OG2</td>\n",
       "      <td>Success</td>\n",
       "      <td>F9 v1.1</td>\n",
       "      <td>Controlled</td>\n",
       "      <td>14 July 2014</td>\n",
       "      <td>15:15</td>\n",
       "    </tr>\n",
       "  </tbody>\n",
       "</table>\n",
       "<p>10 rows × 22 columns</p>\n",
       "</div>"
      ],
      "text/plain": [
       "  Flight No. Version,Booster[b]     Launch site Payload[c] Payload mass  \\\n",
       "0          1               None           CCAFS       None            0   \n",
       "1          2               None           CCAFS       None            0   \n",
       "2          3               None           CCAFS       None       525 kg   \n",
       "3          4               None           CCAFS       None     4,700 kg   \n",
       "4          5               None           CCAFS       None     4,877 kg   \n",
       "5          6               None            VAFB       None       500 kg   \n",
       "6          7               None           CCAFS       None     3,170 kg   \n",
       "7          8               None           CCAFS       None     3,325 kg   \n",
       "8          9               None  Cape Canaveral       None     2,296 kg   \n",
       "9         10               None  Cape Canaveral       None     1,316 kg   \n",
       "\n",
       "         Orbit Customer Launchoutcome Boosterlanding     1  ...     4     5  \\\n",
       "0          LEO   SpaceX          None           None  None  ...  None  None   \n",
       "1          LEO     NASA          None           None  None  ...  None  None   \n",
       "2          LEO     NASA          None           None  None  ...  None  None   \n",
       "3          LEO     NASA          None           None  None  ...  None  None   \n",
       "4          LEO     NASA          None           None  None  ...  None  None   \n",
       "5  Polar orbit      MDA          None           None  None  ...  None  None   \n",
       "6          GTO      SES          None           None  None  ...  None  None   \n",
       "7          GTO  Thaicom          None           None  None  ...  None  None   \n",
       "8          LEO     NASA          None           None  None  ...  None  None   \n",
       "9          LEO  Orbcomm          None           None  None  ...  None  None   \n",
       "\n",
       "      6     7                               Payload Launch outcome  \\\n",
       "0  None  None  Dragon Spacecraft Qualification Unit      Success\\n   \n",
       "1  None  None                                Dragon        Success   \n",
       "2  None  None                                Dragon        Success   \n",
       "3  None  None                          SpaceX CRS-1      Success\\n   \n",
       "4  None  None                          SpaceX CRS-2      Success\\n   \n",
       "5  None  None                              CASSIOPE        Success   \n",
       "6  None  None                                 SES-8        Success   \n",
       "7  None  None                             Thaicom 6        Success   \n",
       "8  None  None                          SpaceX CRS-3      Success\\n   \n",
       "9  None  None                           Orbcomm-OG2        Success   \n",
       "\n",
       "    Version Booster Booster landing               Date   Time  \n",
       "0  F9 v1.07B0003.18         Failure        4 June 2010  18:45  \n",
       "1  F9 v1.07B0004.18         Failure    8 December 2010  15:43  \n",
       "2  F9 v1.07B0005.18    No attempt\\n        22 May 2012  07:44  \n",
       "3  F9 v1.07B0006.18      No attempt     8 October 2012  00:35  \n",
       "4  F9 v1.07B0007.18    No attempt\\n       1 March 2013  15:10  \n",
       "5    F9 v1.17B10038    Uncontrolled  29 September 2013  16:00  \n",
       "6           F9 v1.1      No attempt    3 December 2013  22:41  \n",
       "7           F9 v1.1      No attempt     6 January 2014  22:06  \n",
       "8           F9 v1.1      Controlled      18 April 2014  19:25  \n",
       "9           F9 v1.1      Controlled       14 July 2014  15:15  \n",
       "\n",
       "[10 rows x 22 columns]"
      ]
     },
     "metadata": {},
     "output_type": "display_data"
    }
   ],
   "source": [
    "# ── Extract rows from launch tables ──\n",
    "extracted_row = 0\n",
    "\n",
    "# ── Loop through each launch table ──\n",
    "for table_number, table in enumerate(soup.find_all('table', \"wikitable plainrowheaders collapsible\")):\n",
    "    \n",
    "    # ── Loop through each row ──\n",
    "    for rows in table.find_all(\"tr\"):\n",
    "        \n",
    "        # ── Check if the row starts with a numeric flight number ──\n",
    "        if rows.th and rows.th.string:\n",
    "            flight_number = rows.th.string.strip()\n",
    "            flag = flight_number.isdigit()\n",
    "        else:\n",
    "            flag = False\n",
    "        \n",
    "        # ── Get all <td> cells in the row ──\n",
    "        row = rows.find_all('td')\n",
    "        \n",
    "        # ── If valid row, extract values and append to launch_dict ──\n",
    "        if flag:\n",
    "            extracted_row += 1\n",
    "            \n",
    "            # Flight Number\n",
    "            launch_dict['Flight No.'].append(flight_number)\n",
    "            \n",
    "            # Date and Time\n",
    "            datatimelist = date_time(row[0])\n",
    "            date = datatimelist[0].strip(',')\n",
    "            time = datatimelist[1]\n",
    "            launch_dict['Date'].append(date)\n",
    "            launch_dict['Time'].append(time)\n",
    "            \n",
    "            # Booster Version\n",
    "            bv = booster_version(row[1])\n",
    "            if not bv:\n",
    "                bv = row[1].a.string\n",
    "            launch_dict['Version Booster'].append(bv)\n",
    "            \n",
    "            # Launch Site\n",
    "            launch_site = row[2].a.string\n",
    "            launch_dict['Launch site'].append(launch_site)\n",
    "            \n",
    "            # Payload\n",
    "            payload = row[3].a.string\n",
    "            launch_dict['Payload'].append(payload)\n",
    "            \n",
    "            # Payload Mass\n",
    "            payload_mass = get_mass(row[4])\n",
    "            launch_dict['Payload mass'].append(payload_mass)\n",
    "            \n",
    "            # Orbit\n",
    "            orbit = row[5].a.string\n",
    "            launch_dict['Orbit'].append(orbit)\n",
    "            \n",
    "            # Customer\n",
    "            customer = row[6].a.string if row[6].a is not None else row[6].string\n",
    "            launch_dict['Customer'].append(customer)\n",
    "            \n",
    "            # Launch Outcome\n",
    "            launch_outcome = list(row[7].strings)[0]\n",
    "            launch_dict['Launch outcome'].append(launch_outcome)\n",
    "            \n",
    "            # Booster Landing\n",
    "            booster_landing = landing_status(row[8])\n",
    "            launch_dict['Booster landing'].append(booster_landing)\n",
    "\n",
    "# ── Convert to DataFrame for professional display ──\n",
    "launch_df = pd.DataFrame(launch_dict)\n",
    "display(launch_df.head(10))\n"
   ]
  },
  {
   "cell_type": "markdown",
   "metadata": {},
   "source": [
    "After you have fill in the parsed launch record values into `launch_dict`, you can create a dataframe from it.\n"
   ]
  },
  {
   "cell_type": "code",
   "execution_count": 47,
   "metadata": {},
   "outputs": [
    {
     "data": {
      "text/html": [
       "<div>\n",
       "<style scoped>\n",
       "    .dataframe tbody tr th:only-of-type {\n",
       "        vertical-align: middle;\n",
       "    }\n",
       "\n",
       "    .dataframe tbody tr th {\n",
       "        vertical-align: top;\n",
       "    }\n",
       "\n",
       "    .dataframe thead th {\n",
       "        text-align: right;\n",
       "    }\n",
       "</style>\n",
       "<table border=\"1\" class=\"dataframe\">\n",
       "  <thead>\n",
       "    <tr style=\"text-align: right;\">\n",
       "      <th></th>\n",
       "      <th>Flight No.</th>\n",
       "      <th>Version,Booster[b]</th>\n",
       "      <th>Launch site</th>\n",
       "      <th>Payload[c]</th>\n",
       "      <th>Payload mass</th>\n",
       "      <th>Orbit</th>\n",
       "      <th>Customer</th>\n",
       "      <th>Launchoutcome</th>\n",
       "      <th>Boosterlanding</th>\n",
       "      <th>1</th>\n",
       "      <th>...</th>\n",
       "      <th>4</th>\n",
       "      <th>5</th>\n",
       "      <th>6</th>\n",
       "      <th>7</th>\n",
       "      <th>Payload</th>\n",
       "      <th>Launch outcome</th>\n",
       "      <th>Version Booster</th>\n",
       "      <th>Booster landing</th>\n",
       "      <th>Date</th>\n",
       "      <th>Time</th>\n",
       "    </tr>\n",
       "  </thead>\n",
       "  <tbody>\n",
       "    <tr>\n",
       "      <th>0</th>\n",
       "      <td>1</td>\n",
       "      <td>None</td>\n",
       "      <td>CCAFS</td>\n",
       "      <td>None</td>\n",
       "      <td>0</td>\n",
       "      <td>LEO</td>\n",
       "      <td>SpaceX</td>\n",
       "      <td>None</td>\n",
       "      <td>None</td>\n",
       "      <td>None</td>\n",
       "      <td>...</td>\n",
       "      <td>None</td>\n",
       "      <td>None</td>\n",
       "      <td>None</td>\n",
       "      <td>None</td>\n",
       "      <td>Dragon Spacecraft Qualification Unit</td>\n",
       "      <td>Success\\n</td>\n",
       "      <td>F9 v1.07B0003.18</td>\n",
       "      <td>Failure</td>\n",
       "      <td>4 June 2010</td>\n",
       "      <td>18:45</td>\n",
       "    </tr>\n",
       "    <tr>\n",
       "      <th>1</th>\n",
       "      <td>2</td>\n",
       "      <td>None</td>\n",
       "      <td>CCAFS</td>\n",
       "      <td>None</td>\n",
       "      <td>0</td>\n",
       "      <td>LEO</td>\n",
       "      <td>NASA</td>\n",
       "      <td>None</td>\n",
       "      <td>None</td>\n",
       "      <td>None</td>\n",
       "      <td>...</td>\n",
       "      <td>None</td>\n",
       "      <td>None</td>\n",
       "      <td>None</td>\n",
       "      <td>None</td>\n",
       "      <td>Dragon</td>\n",
       "      <td>Success</td>\n",
       "      <td>F9 v1.07B0004.18</td>\n",
       "      <td>Failure</td>\n",
       "      <td>8 December 2010</td>\n",
       "      <td>15:43</td>\n",
       "    </tr>\n",
       "    <tr>\n",
       "      <th>2</th>\n",
       "      <td>3</td>\n",
       "      <td>None</td>\n",
       "      <td>CCAFS</td>\n",
       "      <td>None</td>\n",
       "      <td>525 kg</td>\n",
       "      <td>LEO</td>\n",
       "      <td>NASA</td>\n",
       "      <td>None</td>\n",
       "      <td>None</td>\n",
       "      <td>None</td>\n",
       "      <td>...</td>\n",
       "      <td>None</td>\n",
       "      <td>None</td>\n",
       "      <td>None</td>\n",
       "      <td>None</td>\n",
       "      <td>Dragon</td>\n",
       "      <td>Success</td>\n",
       "      <td>F9 v1.07B0005.18</td>\n",
       "      <td>No attempt\\n</td>\n",
       "      <td>22 May 2012</td>\n",
       "      <td>07:44</td>\n",
       "    </tr>\n",
       "    <tr>\n",
       "      <th>3</th>\n",
       "      <td>4</td>\n",
       "      <td>None</td>\n",
       "      <td>CCAFS</td>\n",
       "      <td>None</td>\n",
       "      <td>4,700 kg</td>\n",
       "      <td>LEO</td>\n",
       "      <td>NASA</td>\n",
       "      <td>None</td>\n",
       "      <td>None</td>\n",
       "      <td>None</td>\n",
       "      <td>...</td>\n",
       "      <td>None</td>\n",
       "      <td>None</td>\n",
       "      <td>None</td>\n",
       "      <td>None</td>\n",
       "      <td>SpaceX CRS-1</td>\n",
       "      <td>Success\\n</td>\n",
       "      <td>F9 v1.07B0006.18</td>\n",
       "      <td>No attempt</td>\n",
       "      <td>8 October 2012</td>\n",
       "      <td>00:35</td>\n",
       "    </tr>\n",
       "    <tr>\n",
       "      <th>4</th>\n",
       "      <td>5</td>\n",
       "      <td>None</td>\n",
       "      <td>CCAFS</td>\n",
       "      <td>None</td>\n",
       "      <td>4,877 kg</td>\n",
       "      <td>LEO</td>\n",
       "      <td>NASA</td>\n",
       "      <td>None</td>\n",
       "      <td>None</td>\n",
       "      <td>None</td>\n",
       "      <td>...</td>\n",
       "      <td>None</td>\n",
       "      <td>None</td>\n",
       "      <td>None</td>\n",
       "      <td>None</td>\n",
       "      <td>SpaceX CRS-2</td>\n",
       "      <td>Success\\n</td>\n",
       "      <td>F9 v1.07B0007.18</td>\n",
       "      <td>No attempt\\n</td>\n",
       "      <td>1 March 2013</td>\n",
       "      <td>15:10</td>\n",
       "    </tr>\n",
       "  </tbody>\n",
       "</table>\n",
       "<p>5 rows × 22 columns</p>\n",
       "</div>"
      ],
      "text/plain": [
       "  Flight No. Version,Booster[b] Launch site Payload[c] Payload mass Orbit  \\\n",
       "0          1               None       CCAFS       None            0   LEO   \n",
       "1          2               None       CCAFS       None            0   LEO   \n",
       "2          3               None       CCAFS       None       525 kg   LEO   \n",
       "3          4               None       CCAFS       None     4,700 kg   LEO   \n",
       "4          5               None       CCAFS       None     4,877 kg   LEO   \n",
       "\n",
       "  Customer Launchoutcome Boosterlanding     1  ...     4     5     6     7  \\\n",
       "0   SpaceX          None           None  None  ...  None  None  None  None   \n",
       "1     NASA          None           None  None  ...  None  None  None  None   \n",
       "2     NASA          None           None  None  ...  None  None  None  None   \n",
       "3     NASA          None           None  None  ...  None  None  None  None   \n",
       "4     NASA          None           None  None  ...  None  None  None  None   \n",
       "\n",
       "                                Payload Launch outcome   Version Booster  \\\n",
       "0  Dragon Spacecraft Qualification Unit      Success\\n  F9 v1.07B0003.18   \n",
       "1                                Dragon        Success  F9 v1.07B0004.18   \n",
       "2                                Dragon        Success  F9 v1.07B0005.18   \n",
       "3                          SpaceX CRS-1      Success\\n  F9 v1.07B0006.18   \n",
       "4                          SpaceX CRS-2      Success\\n  F9 v1.07B0007.18   \n",
       "\n",
       "  Booster landing             Date   Time  \n",
       "0         Failure      4 June 2010  18:45  \n",
       "1         Failure  8 December 2010  15:43  \n",
       "2    No attempt\\n      22 May 2012  07:44  \n",
       "3      No attempt   8 October 2012  00:35  \n",
       "4    No attempt\\n     1 March 2013  15:10  \n",
       "\n",
       "[5 rows x 22 columns]"
      ]
     },
     "metadata": {},
     "output_type": "display_data"
    }
   ],
   "source": [
    "# ── Create DataFrame from launch_dict and display first rows ──\n",
    "df = pd.DataFrame(launch_dict)\n",
    "display(df.head())"
   ]
  },
  {
   "cell_type": "markdown",
   "metadata": {},
   "source": [
    "We can now export it to a <b>CSV</b> for the next section, but to make the answers consistent and in case you have difficulties finishing this lab.\n",
    "\n",
    "Following labs will be using a provided dataset to make each lab independent.\n"
   ]
  },
  {
   "cell_type": "markdown",
   "metadata": {},
   "source": [
    "<code>df.to_csv('spacex_web_scraped.csv', index=False)</code>\n"
   ]
  },
  {
   "cell_type": "markdown",
   "metadata": {},
   "source": [
    "## Authors\n"
   ]
  },
  {
   "cell_type": "markdown",
   "metadata": {},
   "source": [
    "<a href=\"https://www.linkedin.com/in/yan-luo-96288783/?utm_medium=Exinfluencer&utm_source=Exinfluencer&utm_content=000026UJ&utm_term=10006555&utm_id=NA-SkillsNetwork-Channel-SkillsNetworkCoursesIBMDS0321ENSkillsNetwork26802033-2021-01-01\">Yan Luo</a>\n"
   ]
  },
  {
   "cell_type": "markdown",
   "metadata": {},
   "source": [
    "<a href=\"https://www.linkedin.com/in/nayefaboutayoun/?utm_medium=Exinfluencer&utm_source=Exinfluencer&utm_content=000026UJ&utm_term=10006555&utm_id=NA-SkillsNetwork-Channel-SkillsNetworkCoursesIBMDS0321ENSkillsNetwork26802033-2021-01-01\">Nayef Abou Tayoun</a>\n"
   ]
  },
  {
   "cell_type": "markdown",
   "metadata": {},
   "source": [
    "## Change Log\n"
   ]
  },
  {
   "cell_type": "markdown",
   "metadata": {},
   "source": [
    "| Date (YYYY-MM-DD) | Version | Changed By | Change Description          |\n",
    "| ----------------- | ------- | ---------- | --------------------------- |\n",
    "| 2021-06-09        | 1.0     | Yan Luo    | Tasks updates               |\n",
    "| 2020-11-10        | 1.0     | Nayef      | Created the initial version |\n"
   ]
  },
  {
   "cell_type": "markdown",
   "metadata": {},
   "source": [
    "Copyright © 2021 IBM Corporation. All rights reserved.\n"
   ]
  }
 ],
 "metadata": {
  "kernelspec": {
   "display_name": ".venv",
   "language": "python",
   "name": "python3"
  },
  "language_info": {
   "codemirror_mode": {
    "name": "ipython",
    "version": 3
   },
   "file_extension": ".py",
   "mimetype": "text/x-python",
   "name": "python",
   "nbconvert_exporter": "python",
   "pygments_lexer": "ipython3",
   "version": "3.12.3"
  }
 },
 "nbformat": 4,
 "nbformat_minor": 4
}
